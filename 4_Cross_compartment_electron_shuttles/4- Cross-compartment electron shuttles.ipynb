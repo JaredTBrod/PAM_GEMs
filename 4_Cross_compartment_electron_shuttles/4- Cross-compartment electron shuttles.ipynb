{
 "cells": [
  {
   "cell_type": "markdown",
   "metadata": {},
   "source": [
    "# 4: EET and Cross Compartment Electron Shuttles\n",
    "## This notebook shows the code and calculations used to determine:\n",
    "### - EET flux versus QF\n",
    "### - Energetic coupling between the plastid and mitochondria"
   ]
  },
  {
   "cell_type": "code",
   "execution_count": null,
   "metadata": {},
   "outputs": [],
   "source": [
    "import pandas as pd\n",
    "import numpy as np\n",
    "import csv\n",
    "import cobra\n",
    "from cobra.core.metabolite import elements_and_molecular_weights\n",
    "elements_and_molecular_weights['R']=0.0\n",
    "elements_and_molecular_weights['Z']=0.0\n",
    "from matplotlib import pyplot as plt\n",
    "import seaborn as sns\n",
    "sns.set()\n",
    "import fcns.modeling_functions as fcns"
   ]
  },
  {
   "cell_type": "code",
   "execution_count": null,
   "metadata": {
    "scrolled": true
   },
   "outputs": [],
   "source": [
    "## This cell will recreate Figure 4 from the manuscript.\n",
    "## This sets the QF to an increasing value and calculates the EET in the system at each QF value\n",
    "## Both the fully constrained [Y(II), D1 repair, photon constraints, Oxygen exchange] and the \n",
    "## previous modeling with up to 20% of photons allowed to leave upstream of the photosystems are \n",
    "## included, as in Figure 4.\n",
    "\n",
    "base_model = cobra.io.load_json_model('HL_base_iLB1035.json')\n",
    "(HL_YII_eetLET_out, HL_YII_QF, HL_YII_LET) = fcns.sim_eet(base_model,'HL',DM_flag = False, ngam_comp = 'mito')\n",
    "(HL_DM20_eetLET_out, HL_DM20_QF, HL_DM20_LET) = fcns.sim_eet(base_model,'HL',DM_flag = True, ngam_comp = 'mito')\n",
    "\n",
    "base_model = cobra.io.load_json_model('LL_base_iLB1035.json')\n",
    "(LL_YII_eetLET_out, LL_YII_QF, LL_YII_LET) = fcns.sim_eet(base_model,'LL',DM_flag = False, ngam_comp = 'mito')\n",
    "(LL_DM20_eetLET_out, LL_DM20_QF, LL_DM20_LET) = fcns.sim_eet(base_model,'LL',DM_flag = True, ngam_comp = 'mito')\n",
    "\n"
   ]
  },
  {
   "cell_type": "code",
   "execution_count": null,
   "metadata": {},
   "outputs": [],
   "source": [
    "## Figure 4\n",
    "\n",
    "QF_range = np.linspace(1e-10,1.2e-9,21)\n",
    "plot = sns.scatterplot(x=QF_range, y=LL_DM20_eetLET_out, marker = '^', edgecolor=\"tab:orange\", facecolors=\"none\", linewidth = 2, s=70,label = 'LL Photon 20%')\n",
    "plot = sns.scatterplot(x=QF_range, y=HL_DM20_eetLET_out, marker = 'o', edgecolor=\"blue\", facecolors=\"none\", s=70, linewidth = 2, label = 'HL Photon 20%')\n",
    "plot = sns.scatterplot(x=QF_range, y=LL_YII_eetLET_out, marker = '^', edgecolor=\"tab:orange\", facecolors=\"tab:orange\", linewidth = 1, s=70, label = 'LL Y(II)+D1repair')\n",
    "plot = sns.scatterplot(x=QF_range, y=HL_YII_eetLET_out, marker = 'o', edgecolor=\"blue\", facecolors=\"blue\", s=70, label = 'HL Y(II)+D1repair')\n",
    "plot.set(xlim = (0,1.22e-9),xlabel='Quantum Flux (umol photons cell-1 s-1)',ylabel = 'EET Flux (mmol e- gDW-1 h-1)')"
   ]
  },
  {
   "cell_type": "markdown",
   "metadata": {},
   "source": [
    "## Energetic coupling between the plastid and mitochondrion\n",
    "### Figure 4B\n",
    "### High light flux comparison between Y(II), 20% Photon loss, and NGAM routed\n",
    "### to the plastid instead of the mitochondrion (PTOX instead of AOXm)"
   ]
  },
  {
   "cell_type": "code",
   "execution_count": null,
   "metadata": {},
   "outputs": [],
   "source": [
    "base_model = cobra.io.load_json_model('HL_base_iLB1035.json')\n",
    "(yII_biomass, yII_model) = fcns.simulate(base_model,'HL',photon_const=True,Po_const=True,\n",
    "                                         YII_const=True,D1_const=True,DM20=False,ngam_comp='mito')\n",
    "(DM20_biomass, DM20_model) = fcns.simulate(base_model,'HL',photon_const=False,Po_const=True,\n",
    "                                         YII_const=False,D1_const=False,DM20=True,ngam_comp='mito')\n",
    "(PTOX_biomass, PTOX_model) = fcns.simulate(base_model,'HL',photon_const=True,Po_const=True,\n",
    "                                         YII_const=True,D1_const=True,DM20=False,ngam_comp='chloro')"
   ]
  },
  {
   "cell_type": "code",
   "execution_count": null,
   "metadata": {},
   "outputs": [],
   "source": [
    "## Model reactions that are associated with specific pathways\n",
    "xcomp_rxns = {'TCA' : ['ICDH_m','IDH_m','OGDH_E2_m','SDH_m','ME1_m','ME2_m','MDH_m','GLUDH2_m'],\n",
    "              'Glyco_m' : ['GAPDH_m','PDH_E2_m'],\n",
    "              'Lysine' : ['OADPDH_m','GCDH_m','HADH40_m'],\n",
    "              'PRred' : ['GCS_m'],\n",
    "              'BCAA' : ['BCKDHI_m','BCKDHV_m','BCKDHL_m','IBCOAD_m','ISOVCOADH_m','2MBCOAD_m','3H2MBCOAOR_m','3HIBDH_m','MMSAD_m','MMM_m'],\n",
    "              'Orn' : ['PRODH_m','P5CDH_m'],\n",
    "              'AOX' : ['AOX_m','NGAM'],\n",
    "              'ROS' : ['GDR_m','GDR_NADP_m','CCP2_m'],\n",
    "              'PRox' : ['GLYTA_m','AGAT_m']}\n",
    "\n",
    "\n",
    "TI = 20. #time interval in minutes"
   ]
  },
  {
   "cell_type": "code",
   "execution_count": null,
   "metadata": {},
   "outputs": [],
   "source": [
    "yII_fluxes = fcns.calc_fluxes(yII_model,xcomp_rxns,gDW=yII_biomass['700']['Biomass'],TI=TI)\n",
    "DM20_fluxes = fcns.calc_fluxes(DM20_model,xcomp_rxns,gDW=DM20_biomass['700']['Biomass'],TI=TI)\n",
    "PTOX_fluxes = fcns.calc_fluxes(PTOX_model,xcomp_rxns,gDW=PTOX_biomass['700']['Biomass'],TI=TI)"
   ]
  },
  {
   "cell_type": "code",
   "execution_count": null,
   "metadata": {
    "scrolled": true
   },
   "outputs": [],
   "source": [
    "yII_df = pd.DataFrame()\n",
    "rxns = [k for k,v in yII_fluxes.items()]\n",
    "fluxes = [v for k,v in yII_fluxes.items()]\n",
    "condition = 'Y(II)+D1'\n",
    "\n",
    "yII_df['rxns']=rxns\n",
    "yII_df['fluxes']=fluxes\n",
    "yII_df['condition']=[condition]*len(rxns)\n",
    "\n",
    "DM20_df = pd.DataFrame()\n",
    "rxns = [k for k,v in DM20_fluxes.items()]\n",
    "fluxes = [v for k,v in DM20_fluxes.items()]\n",
    "condition = 'Photon20%'\n",
    "\n",
    "DM20_df['rxns']=rxns\n",
    "DM20_df['fluxes']=fluxes\n",
    "DM20_df['condition']=[condition]*len(rxns)\n",
    "\n",
    "PTOX_df = pd.DataFrame()\n",
    "rxns = [k for k,v in PTOX_fluxes.items()]\n",
    "fluxes = [v for k,v in PTOX_fluxes.items()]\n",
    "condition = 'PTOX'\n",
    "\n",
    "PTOX_df['rxns']=rxns\n",
    "PTOX_df['fluxes']=fluxes\n",
    "PTOX_df['condition']=[condition]*len(rxns)\n",
    "\n",
    "data_df = pd.concat([DM20_df,yII_df,PTOX_df])"
   ]
  },
  {
   "cell_type": "code",
   "execution_count": null,
   "metadata": {},
   "outputs": [],
   "source": [
    "sns.barplot(x ='rxns',y='fluxes', hue = 'condition',data = data_df, palette='YlGnBu_r')"
   ]
  },
  {
   "cell_type": "code",
   "execution_count": null,
   "metadata": {},
   "outputs": [],
   "source": []
  }
 ],
 "metadata": {
  "kernelspec": {
   "display_name": "Python 3 (ipykernel)",
   "language": "python",
   "name": "python3"
  },
  "language_info": {
   "codemirror_mode": {
    "name": "ipython",
    "version": 3
   },
   "file_extension": ".py",
   "mimetype": "text/x-python",
   "name": "python",
   "nbconvert_exporter": "python",
   "pygments_lexer": "ipython3",
   "version": "3.10.4"
  }
 },
 "nbformat": 4,
 "nbformat_minor": 4
}
