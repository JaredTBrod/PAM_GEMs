{
 "cells": [
  {
   "cell_type": "markdown",
   "metadata": {},
   "source": [
    "# 5: Bioengineering\n",
    "## This notebook shows the code and calculations used to determine:\n",
    "### - Biomass macromolecule reductant cost (Table 3)\n",
    "### - Overproduction of hexadecanoate, isopentenyl PP, and chorismate (Fig. 5)\n",
    "### - Production versus inoculation density and photon flux (Fig. 6)\n"
   ]
  },
  {
   "cell_type": "code",
   "execution_count": null,
   "metadata": {},
   "outputs": [],
   "source": [
    "import pandas as pd\n",
    "import numpy as np\n",
    "import csv\n",
    "import cobra\n",
    "from cobra.core.metabolite import elements_and_molecular_weights\n",
    "elements_and_molecular_weights['R']=0.0\n",
    "elements_and_molecular_weights['Z']=0.0\n",
    "from matplotlib import pyplot as plt\n",
    "import seaborn as sns\n",
    "sns.set()\n",
    "import fcns.modeling_functions as fcns"
   ]
  },
  {
   "cell_type": "markdown",
   "metadata": {},
   "source": [
    "## Table 3: %LET, reductant cost and theoretical yield of biomass macromolecules"
   ]
  },
  {
   "cell_type": "code",
   "execution_count": null,
   "metadata": {},
   "outputs": [],
   "source": [
    "## Calculated for high light acclimated cells during the last simulation interval\n",
    "## Get a solution for the HL model \n",
    "base_model = cobra.io.load_json_model('HL_base_iLB1035.json')\n",
    "(yII_biomass, yII_model) = fcns.simulate(base_model,'HL',photon_const=True,Po_const=True,\n",
    "                                         YII_const=True,D1_const=True,DM20=False,ngam_comp='mito')\n"
   ]
  },
  {
   "cell_type": "code",
   "execution_count": null,
   "metadata": {},
   "outputs": [],
   "source": [
    "## The total biomass at the start of the simulation is in yII_biomass as time point 700 min\n",
    "## The accumulated biomass is the difference between that value and the value at 720 min\n",
    "mgDW = np.around(yII_biomass['700']['Biomass'],3)\n",
    "DW_accum = np.around(yII_biomass['720']['Biomass']-yII_biomass['700']['Biomass'],3)\n",
    "\n",
    "# Column 1: Percent Biomass\n",
    "## The percent biomass for each macromolecule is encoded in the biomass objective function\n",
    "bof_dict = {}\n",
    "labels = {'biomass_carb_c':'Structural carb',\n",
    "          'biomass_dna_c': 'DNA',\n",
    "          'biomass_mem_lipids_c': 'Membrane lipids',\n",
    "          'biomass_pigm_h':'Pigments',\n",
    "          'biomass_plastid_lip_h':'Plastid lipids',\n",
    "          'biomass_pro_c':'Protein',\n",
    "          'biomass_rna_c':'RNA',\n",
    "          'carbon_storage_c':'Storage'}\n",
    "\n",
    "for m in yII_model.reactions.bof_c.metabolites:\n",
    "    if yII_model.reactions.bof_c.metabolites[m] < 0.:\n",
    "        label = labels[m.id]\n",
    "        bof_dict[label]=np.around(-100*yII_model.reactions.bof_c.metabolites[m],1)       \n",
    "\n",
    "# Column 2: %LET\n",
    "## Get the baseline LET\n",
    "base_LET = np.around(2*yII_model.reactions.PSI_u.flux-yII_model.reactions.CEF_h.flux,1)\n",
    "### Units are mmol e- per simulation time interval (20 min)\n",
    "\n",
    "## Determine the LET for biomass only, no EET\n",
    "hv_unconstrained = yII_model.copy()\n",
    "hv_unconstrained.reactions.DM_photon_c.upper_bound = 1e5\n",
    "hv_unconstrained.objective = 'DM_photon_c'\n",
    "\n",
    "hv_unconstrained.reactions.bof_c.lower_bound = DW_accum*0.999\n",
    "\n",
    "solution = cobra.flux_analysis.parsimonious.pfba(hv_unconstrained)\n",
    "bof_LET = np.around(2*hv_unconstrained.reactions.PSI_u.flux-hv_unconstrained.reactions.CEF_h.flux,1)\n",
    "\n",
    "### The LET for each component is determined by:\n",
    "#### 1) Removing the component from the biomass objective function\n",
    "#### 2) Reducing the DW_accum by the percent of total biomass for that component\n",
    "#### 3) Simulating with the new BOF and re-calculating LET\n",
    "#### This new value is the number of electrons required to build all biomass components\n",
    "#### EXCEPT the one under evaluation. The difference between this number and baseline is the\n",
    "#### LET required for the component under investigation\n",
    "\n",
    "#### Get LET without the component\n",
    "out_var = fcns.get_comp_let(yII_model,DW_accum)\n",
    "\n",
    "#### LET delta\n",
    "per_LET = {}\n",
    "total_LET = 0.\n",
    "for k,v in out_var.items():\n",
    "    per_LET[k] = np.around(((bof_LET-v)/base_LET)*100.,1)\n",
    "    total_LET = np.around(total_LET+((bof_LET-v)/base_LET)*100.,1)\n",
    "\n",
    "# Column 3: Reductant Cost\n",
    "## Equal to the LET for a component divided by the fraction of total biomass\n",
    "### units: mmol e- per gram DW of the component (e.g. protein fraction)\n",
    "red_cost = {}\n",
    "for k,v in per_LET.items():\n",
    "    perc = bof_dict[k]/100.\n",
    "    mgComp = perc*DW_accum\n",
    "    met_let = v/100.*base_LET\n",
    "    red_cost[k]=np.around(met_let/mgComp,0)\n",
    "\n",
    "# Column 4: Theoretical Yield\n",
    "## Equal to the milligrams dry weight of the biomass component if all EET could be routed to \n",
    "## synthesize that macromolecule\n",
    "### units: mg biomass component per g dry weight total biomass per hour\n",
    "\n",
    "EET = base_LET-bof_LET\n",
    "th_yield = {}\n",
    "for k,v in per_LET.items():\n",
    "    met_let = v/100.*base_LET\n",
    "    cost = red_cost[k]\n",
    "    mg_yield = (EET/cost)/20*60/mgDW*1000.\n",
    "    th_yield[k]=np.around(mg_yield,1)\n",
    "    \n",
    "# Make the table\n",
    "table3 = pd.DataFrame(index=labels.values())\n",
    "table3['Biomass percent']=bof_dict.values()\n",
    "table3['%LET']=per_LET.values()\n",
    "table3['Reductant Cost']=red_cost.values()\n",
    "table3['Theoretical yield']=th_yield.values()"
   ]
  },
  {
   "cell_type": "code",
   "execution_count": null,
   "metadata": {},
   "outputs": [],
   "source": [
    "table3"
   ]
  },
  {
   "cell_type": "code",
   "execution_count": null,
   "metadata": {},
   "outputs": [],
   "source": [
    "print('EET %LET: ', np.around(EET/base_LET*100,1))\n",
    "print('Other %LET', np.around(100.-(EET/base_LET*100)-total_LET,1))"
   ]
  },
  {
   "cell_type": "markdown",
   "metadata": {},
   "source": [
    "## Figure 5. Flux changes due to overexpression of bioengineering targets\n",
    "### This code will return the heat map used to build the figure as well as the plots of product yield versus fraction of biomass redirected\n",
    "\n"
   ]
  },
  {
   "cell_type": "code",
   "execution_count": null,
   "metadata": {},
   "outputs": [],
   "source": [
    "# The reactions used in the figure are listed below\n",
    "rxns = ['RUBISC_h','RUBISO_h','PGK_h','GAPDH_h','FBA_h','FBP_h','TKL2_h',\n",
    "        'RPE_h','TPI_h','TKL1_h','RPI_h','SBP_h','FBA3_h','PGAM_h','ENO_h',\n",
    "        'PYK_h','PDH_E2_h','ACCOAC_h']\n",
    "## the suffix '_h' denotes the plastid localization of the reaction\n",
    "\n",
    "## Get the baseline flux distribution from the Y(II) constrained model\n",
    "soln = cobra.flux_analysis.parsimonious.pfba(yII_model)\n",
    "base_line_flux = [np.around(soln.fluxes[r],3) for r in rxns]\n",
    "\n",
    "## Build the dataframe to collect outputs\n",
    "heatmap_data = pd.DataFrame(index=rxns)\n",
    "\n",
    "# Get the fluxes for overexpression at 30% BOF redirected\n",
    "mets = ['chor_h','hdca_h','ipdp_h']\n",
    "frac_bof = [0.7]\n",
    "\n",
    "for m in mets:\n",
    "    met_eng = m\n",
    "    temp_model = yII_model.copy()\n",
    "    temp_model = fcns.target_met(temp_model,met_eng)\n",
    "    for x in frac_bof:\n",
    "        (out_model,fluxes)= fcns.calc_eet(temp_model, frac_max = x, met = met_eng,\n",
    "                                  ref_gDW=mgDW, TI=20./60., get_fluxes = True, get_model=True)\n",
    "    \n",
    "    meteng_flux = [np.around(out_model.reactions.get_by_id(r).flux,3) for r in rxns]\n",
    "    delta_flux = abs(np.array(meteng_flux))-(abs(np.array(base_line_flux)))\n",
    "    \n",
    "    ## delta_flux is in umol/TI, convert to mmol gDW-1 h-1\n",
    "    delta_flux = delta_flux/mgDW/20.*60.\n",
    "    \n",
    "    \n",
    "    heatmap_data[m]=delta_flux\n"
   ]
  },
  {
   "cell_type": "code",
   "execution_count": null,
   "metadata": {},
   "outputs": [],
   "source": [
    "c_map = sns.diverging_palette(225, 30, l=50, as_cmap=True)\n",
    "ax = sns.heatmap(heatmap_data, linewidth = 0.5, center=0, square=True, cmap = c_map)"
   ]
  },
  {
   "cell_type": "code",
   "execution_count": null,
   "metadata": {},
   "outputs": [],
   "source": [
    "## Production versus fraction of redirected biomass\n",
    "frac_bof = [0.9,0.8,0.7,0.6,0.5]\n",
    "plot_data = pd.DataFrame(index=(1-np.array(frac_bof)))\n",
    "\n",
    "mets = ['hdca_h','ipdp_h','chor_h']\n",
    "\n",
    "for m in mets:\n",
    "    out_yield = []    \n",
    "    met_eng = m\n",
    "    temp_model = yII_model.copy()\n",
    "    temp_model = fcns.target_met(temp_model,met_eng)\n",
    "    for x in frac_bof:\n",
    "        fluxes= fcns.calc_eet(temp_model, frac_max = x, met = met_eng,\n",
    "                                  ref_gDW=mgDW, TI=20./60., get_fluxes = True, get_model=False)\n",
    "        r_id = 'DM_'+met_eng\n",
    "        out_yield.append(fluxes[r_id]/mgDW*60./20.)\n",
    "    \n",
    "    plot_data[m]=out_yield"
   ]
  },
  {
   "cell_type": "code",
   "execution_count": null,
   "metadata": {},
   "outputs": [],
   "source": [
    "plot_data"
   ]
  },
  {
   "cell_type": "code",
   "execution_count": null,
   "metadata": {},
   "outputs": [],
   "source": [
    "fig, axs = plt.subplots(3,figsize=(5,8))\n",
    "x = plot_data.index.values\n",
    "\n",
    "axs[0].plot(x,plot_data['hdca_h'].values, linestyle = 'dashed', linewidth = 3)\n",
    "axs[0].set_title(\"Hexadecanoate production\")\n",
    "axs[0].set_ylabel(\"mmol product gDW-1 h-1\")\n",
    "axs[0].set_xlabel(\"Fraction of biomass redirected\")\n",
    "axs[0].set_ylim([0.,0.3])\n",
    "axs[0].set_xlim([0.,0.6])\n",
    "\n",
    "axs[1].plot(x,plot_data['ipdp_h'].values, linestyle = (0,(5,5)), linewidth = 3)\n",
    "axs[1].set_title(\"Isoprenoid production\")\n",
    "axs[1].set_ylabel(\"mmol product gDW-1 h-1\")\n",
    "axs[1].set_xlabel(\"Fraction of biomass redirected\")\n",
    "axs[1].set_ylim([0.,0.3])\n",
    "axs[1].set_xlim([0.,0.6])\n",
    "\n",
    "axs[2].plot(x,plot_data['chor_h'].values, linewidth = 3)\n",
    "axs[2].set_title(\"Shikimate production\")\n",
    "axs[2].set_ylabel(\"mmol product gDW-1 h-1\")\n",
    "axs[2].set_xlabel(\"Fraction of biomass redirected\")\n",
    "axs[2].set_ylim([0.,0.3])\n",
    "axs[2].set_xlim([0.,0.6])\n",
    "\n",
    "fig.tight_layout()"
   ]
  },
  {
   "cell_type": "markdown",
   "metadata": {},
   "source": [
    "## Figure 6: Production envelopes for overexpression designs at different inoculation densities"
   ]
  },
  {
   "cell_type": "markdown",
   "metadata": {},
   "source": [
    "### Fig. 6 A and B"
   ]
  },
  {
   "cell_type": "code",
   "execution_count": null,
   "metadata": {
    "scrolled": true
   },
   "outputs": [],
   "source": [
    "base_model = cobra.io.load_json_model('HL_base_iLB1035.json')\n",
    "(yII_biomass_LL, yII_model_LL) = fcns.simulate(base_model,'HL',photon_const=True,Po_const=True,\n",
    "                                         YII_const=True,D1_const=True,DM20=False,ngam_comp='mito')\n",
    "\n",
    "model = yII_model.copy()\n",
    "met_eng = 'ipdp_h'\n",
    "bof_frac = 0.6 #Fraction redirected\n",
    "inoc_array = [100000.0, 100050000.0, 10095000.0, 110045000.0, 120040000.0, 130035000.0,\n",
    "              1389495.0, 140030000.0, 150025000.0, 160020000.0, 170015000.0, 180010000.0,\n",
    "              190005000.0, 193070.0, 200000000.0, 20090000.0, 2682696.0, 30085000.0,\n",
    "              372759.0, 40080000.0, 50075000.0, 5179475.0, 60070000.0, 70065000.0, 719686.0,\n",
    "              80060000.0, 90055000.0]\n",
    "\n",
    "light = 'HL'\n",
    "model = fcns.target_met(model,met_eng)\n",
    "\n",
    "time_interval = 360 ## Note, sims for figure 6 used a 60 min interval,\n",
    "                    ## but for demonstration we use 360 here\n",
    "                    ## 60 takes longer and uses quite a bit of memory\n",
    "interval = [str(a) for a in range(time_interval,7200+time_interval,time_interval)]\n",
    "\n",
    "production_DF = pd.DataFrame(columns=interval)\n",
    "\n",
    "for inn in inoc_array:\n",
    "    temp_DF = fcns.get_prod_env(model,met_eng,bof_frac,inn,light, time_interval)\n",
    "    temp_DF = temp_DF.drop(['0'],axis= 1)\n",
    "    production_DF.loc[inn]=temp_DF.values[0]\n",
    "    "
   ]
  },
  {
   "cell_type": "code",
   "execution_count": null,
   "metadata": {},
   "outputs": [],
   "source": [
    "fcns.plot_prod(production_DF,time_interval,metgfw=243.07,bof_frac=bof_frac)"
   ]
  },
  {
   "cell_type": "code",
   "execution_count": null,
   "metadata": {
    "scrolled": true
   },
   "outputs": [],
   "source": [
    "base_model = cobra.io.load_json_model('LL_base_iLB1035.json')\n",
    "(yII_biomass_LL, yII_model_LL) = fcns.simulate(base_model,'LL',photon_const=True,Po_const=True,\n",
    "                                         YII_const=True,D1_const=True,DM20=False,ngam_comp='mito')\n",
    "\n",
    "model = yII_model.copy()\n",
    "met_eng = 'ipdp_h'\n",
    "bof_frac = 0.6 #Fraction redirected\n",
    "inoc_array = [100000.,   170125.,   242446., 345511.,   492388., 650000., 800000., 1000000.,  1193777.,\n",
    "        1425103.,  1701254.,  2030918.,  2424462.,  2894266.,  3455107., 4124626., 5500000., 7000000.,\n",
    "        8500000.,  10000000., 11937766., 14251027., 17012543., 20309176., 24244620., 28942661., 34551073.,\n",
    "        41246264., 50000000., 60000000.]\n",
    "\n",
    "light = 'LL'\n",
    "if light == 'LL':\n",
    "    model = yII_model_LL\n",
    "model = fcns.target_met(model,met_eng)\n",
    "\n",
    "time_interval = 360 ## Note, sims for figure 6 used a 60 min interval,\n",
    "                    ## but for demonstration we use 360 here\n",
    "                    ## 60 takes longer and uses quite a bit of memory\n",
    "interval = [str(a) for a in range(time_interval,7200+time_interval,time_interval)]\n",
    "\n",
    "production_DF = pd.DataFrame(columns=interval)\n",
    "\n",
    "for inn in inoc_array:\n",
    "    temp_DF = fcns.get_prod_env(model,met_eng,bof_frac,inn,light, time_interval)\n",
    "    temp_DF = temp_DF.drop(['0'],axis= 1)\n",
    "    production_DF.loc[inn]=temp_DF.values[0]\n"
   ]
  },
  {
   "cell_type": "code",
   "execution_count": null,
   "metadata": {},
   "outputs": [],
   "source": [
    "fcns.plot_prod(production_DF,time_interval,metgfw=243.07,bof_frac=bof_frac)"
   ]
  }
 ],
 "metadata": {
  "kernelspec": {
   "display_name": "Python 3 (ipykernel)",
   "language": "python",
   "name": "python3"
  },
  "language_info": {
   "codemirror_mode": {
    "name": "ipython",
    "version": 3
   },
   "file_extension": ".py",
   "mimetype": "text/x-python",
   "name": "python",
   "nbconvert_exporter": "python",
   "pygments_lexer": "ipython3",
   "version": "3.10.4"
  }
 },
 "nbformat": 4,
 "nbformat_minor": 4
}
