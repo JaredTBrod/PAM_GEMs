{
 "cells": [
  {
   "cell_type": "markdown",
   "metadata": {},
   "source": [
    "# 5: Bioengineering\n",
    "## This notebook shows the code and calculations used to determine:\n",
    "### - Production versus inoculation density and photon flux (Fig. 6C and D)\n",
    "#### The production simulations can use a lot of memory and take a long time. \n",
    "#### Running as a separate notebook still requires more than 16GB of system RAM.\n",
    "#### Options for reducing memory usage (other than being better at coding...):\n",
    "#### Separate the simulations into sets:\n",
    "####     1) Break up bof_frac (e.g. run just 0.2 and then 0.6)\n",
    "####     - Save the output variable to csv (T5_DF_HL.to_csv('HL_data_20percBOF.csv') for the 20% redirect\n",
    "####     - Restart the kernel and run the 60% redirect and save as csv  (T5_DF_HL.to_csv('HL_data_60percBOF.csv')\n",
    "####     - Restart the kernel and load in the output data as a dataFrame\n",
    "####     2) Same as #1 but break up the metabolites into 3 separate csv files\n",
    "####     - Save the output variable to csv (T5_DF_HL.to_csv('HL_data_chor_h.csv') for the Shikimate pathway overexpression.\n",
    "####     - Restart the kernel and run the other metabolites and save as csv\n",
    "####     - Restart the kernel and load in the output data as a dataFrame"
   ]
  },
  {
   "cell_type": "code",
   "execution_count": null,
   "metadata": {},
   "outputs": [],
   "source": [
    "import pandas as pd\n",
    "import numpy as np\n",
    "import csv\n",
    "import cobra\n",
    "import math as m\n",
    "from cobra.core.metabolite import elements_and_molecular_weights\n",
    "elements_and_molecular_weights['R']=0.0\n",
    "elements_and_molecular_weights['Z']=0.0\n",
    "from matplotlib import pyplot as plt\n",
    "import seaborn as sns\n",
    "sns.set()\n",
    "import fcns.modeling_functions as fcns"
   ]
  },
  {
   "cell_type": "markdown",
   "metadata": {},
   "source": [
    "### Fig. 6 C and D"
   ]
  },
  {
   "cell_type": "code",
   "execution_count": null,
   "metadata": {},
   "outputs": [],
   "source": [
    "## HL samples, Fig. 6C\n",
    "mets = {'chor_h':224.17, 'ipdp_h':243.07,'hdca_h':255.42}\n",
    "bof_frac = [0.2,0.6]\n",
    "\n",
    "base_model = cobra.io.load_json_model('HL_base_iLB1035.json')\n",
    "(yII_biomass_HL, yII_model_HL) = fcns.simulate(base_model,'HL',photon_const=True,Po_const=True,\n",
    "                                         YII_const=True,D1_const=True,DM20=False,ngam_comp='mito')\n",
    "\n",
    "time_interval = 360 ## Note, sims for figure 6 used a 60 min interval,\n",
    "                    ## but for demonstration we use 360 here\n",
    "interval = [str(a) for a in range(time_interval,7200+time_interval,time_interval)]  \n",
    "\n",
    "## Note, this inoc array is a little more sparse than the figure in the paper to save computation\n",
    "### time and resources.\n",
    "inoc_array = [100000.00,400000.00,800000.00,1400000.00,2800000.00,5000000.00,10000000.00,\n",
    "              20000000.00,30000000.00,40000000.00,50000000.00,60000000.00,70000000.00,\n",
    "              80000000.00,100000000.00,120000000.00,140000000.00,160000000.00,180000000.00,\n",
    "              195000000.00]\n",
    "\n",
    "T5_DF_HL = pd.DataFrame(index=inoc_array)\n",
    "\n",
    "for metab,metgfw in mets.items():\n",
    "    met_eng = metab\n",
    "    model = yII_model_HL.copy()\n",
    "    light = 'HL'\n",
    "    model = fcns.target_met(model,met_eng)\n",
    "    \n",
    "    for bfrac in bof_frac:\n",
    "        production_DF = pd.DataFrame(columns=interval)\n",
    "        for inn in inoc_array:\n",
    "            temp_DF = fcns.get_prod_env(model,met_eng,bfrac,inn,light, time_interval)\n",
    "            temp_DF = temp_DF.drop(['0'],axis= 1)\n",
    "            production_DF.loc[inn]=temp_DF.values[0] \n",
    "\n",
    "        col_id = met_eng+'_'+light+'_'+str(bfrac)\n",
    "        T5_DF_HL[col_id]=(production_DF['7200'].values)*metgfw/1000./(bfrac*100)\n",
    "    \n",
    "    \n"
   ]
  },
  {
   "cell_type": "code",
   "execution_count": null,
   "metadata": {},
   "outputs": [],
   "source": [
    "T5_DF_HL.to_csv('HL_T=5days_mgProd_v_inoc.csv')"
   ]
  },
  {
   "cell_type": "markdown",
   "metadata": {},
   "source": [
    "## At this point, if you are low on RAM, restart the kernel and then execute the code below.  Otherwise, proceed with the Low Light simulations below."
   ]
  },
  {
   "cell_type": "code",
   "execution_count": null,
   "metadata": {},
   "outputs": [],
   "source": [
    "import pandas as pd\n",
    "import numpy as np\n",
    "import csv\n",
    "import cobra\n",
    "import math as m\n",
    "from cobra.core.metabolite import elements_and_molecular_weights\n",
    "elements_and_molecular_weights['R']=0.0\n",
    "elements_and_molecular_weights['Z']=0.0\n",
    "from matplotlib import pyplot as plt\n",
    "import seaborn as sns\n",
    "sns.set()\n",
    "import fcns.modeling_functions as fcns"
   ]
  },
  {
   "cell_type": "code",
   "execution_count": null,
   "metadata": {},
   "outputs": [],
   "source": [
    "## LL samples, Fig. 6D\n",
    "mets = {'chor_h':224.17, 'ipdp_h':243.07, 'hdca_h':255.42}\n",
    "bof_frac = [0.2,0.6]\n",
    "\n",
    "base_model = cobra.io.load_json_model('LL_base_iLB1035.json')\n",
    "(yII_biomass_LL, yII_model_LL) = fcns.simulate(base_model,'LL',photon_const=True,Po_const=True,\n",
    "                                         YII_const=True,D1_const=True,DM20=False,ngam_comp='mito')\n",
    "\n",
    "time_interval = 360 ## Note, sims for figure 6 used a 60 min interval,\n",
    "                    ## but for demonstration we use 360 here\n",
    "interval = [str(a) for a in range(time_interval,7200+time_interval,time_interval)]    \n",
    "\n",
    "## Note, this inoc array is a little more sparse than the figure in the paper to save computation\n",
    "### time and resources.\n",
    "inoc_array = [100000., 500000., 800000., 1500000., 3000000., 6000000., 8500000., \n",
    "              10000000., 12000000., 15000000., 17500000., 20000000., 25000000.,\n",
    "              30000000., 35000000., 40000000., 50000000., 60000000.]\n",
    "\n",
    "T5_DF_LL = pd.DataFrame(index=inoc_array)\n",
    "\n",
    "for metab,metgfw in mets.items():\n",
    "    met_eng = metab\n",
    "    model = yII_model_LL.copy()\n",
    "    light = 'LL'\n",
    "    model = fcns.target_met(model,met_eng)\n",
    "    \n",
    "    for bfrac in bof_frac:\n",
    "        production_DF = pd.DataFrame(columns=interval)\n",
    "        for inn in inoc_array:\n",
    "            temp_DF = fcns.get_prod_env(model,met_eng,bfrac,inn,light, time_interval)\n",
    "            temp_DF = temp_DF.drop(['0'],axis= 1)\n",
    "            production_DF.loc[inn]=temp_DF.values[0] \n",
    "\n",
    "        col_id = met_eng+'_'+light+'_'+str(bfrac)\n",
    "        T5_DF_LL[col_id]=(production_DF['7200'].values)*metgfw/1000./(bfrac*100)\n",
    "    "
   ]
  },
  {
   "cell_type": "code",
   "execution_count": null,
   "metadata": {},
   "outputs": [],
   "source": [
    "T5_DF_LL.to_csv('LL_T=5days_mgProd_v_inoc.csv')"
   ]
  },
  {
   "cell_type": "code",
   "execution_count": null,
   "metadata": {},
   "outputs": [],
   "source": [
    "T5_DF_HL = pd.read_csv('HL_T=5days_mgProd_v_inoc.csv',index_col=0)\n",
    "x = T5_DF_HL.index.values\n",
    "plt.figure(figsize=(5,5))\n",
    "for c in T5_DF_HL.columns:\n",
    "    y = T5_DF_HL[c].values    \n",
    "    plt.scatter(x=x,y=y)\n"
   ]
  },
  {
   "cell_type": "code",
   "execution_count": null,
   "metadata": {},
   "outputs": [],
   "source": [
    "T5_DF_LL = pd.read_csv('LL_T=5days_mgProd_v_inoc.csv',index_col=0)\n",
    "x = T5_DF_LL.index.values\n",
    "plt.figure(figsize=(5,5))\n",
    "for c in T5_DF_LL.columns:\n",
    "    y = T5_DF_LL[c].values\n",
    "    plt.scatter(x=x,y=y)"
   ]
  },
  {
   "cell_type": "code",
   "execution_count": null,
   "metadata": {},
   "outputs": [],
   "source": []
  }
 ],
 "metadata": {
  "kernelspec": {
   "display_name": "Python 3 (ipykernel)",
   "language": "python",
   "name": "python3"
  },
  "language_info": {
   "codemirror_mode": {
    "name": "ipython",
    "version": 3
   },
   "file_extension": ".py",
   "mimetype": "text/x-python",
   "name": "python",
   "nbconvert_exporter": "python",
   "pygments_lexer": "ipython3",
   "version": "3.10.4"
  }
 },
 "nbformat": 4,
 "nbformat_minor": 4
}
