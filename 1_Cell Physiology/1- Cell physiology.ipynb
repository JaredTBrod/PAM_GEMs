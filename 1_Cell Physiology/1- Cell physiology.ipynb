{
 "cells": [
  {
   "cell_type": "markdown",
   "metadata": {},
   "source": [
    "# 1: Cell physiology\n",
    "## This notebook shows the code and calculations used to determine:\n",
    "### - Cell volume\n",
    "### - Chlorophyll content (a and c)\n",
    "\n",
    "(Table 1 in the manuscript)"
   ]
  },
  {
   "cell_type": "code",
   "execution_count": null,
   "metadata": {},
   "outputs": [],
   "source": [
    "## Required packages\n",
    "import pandas as pd\n",
    "import numpy as np\n",
    "import csv"
   ]
  },
  {
   "cell_type": "markdown",
   "metadata": {},
   "source": [
    "## Cell volumes\n",
    "Cell length and width were determined using the straight-line tool in ImageJ (Schindelin J, Rueden CT, Hiner MC & Eliceiri KW (2015) The ImageJ ecosystem: An open platform for biomedical image analysis. Mol Reprod Dev 82: 518–529)"
   ]
  },
  {
   "cell_type": "code",
   "execution_count": null,
   "metadata": {},
   "outputs": [],
   "source": [
    "## Representative image of LL acclimated cells\n",
    "from IPython.display import Image\n",
    "Image(\"1_Pt_LL_acclim.jpg\")"
   ]
  },
  {
   "cell_type": "code",
   "execution_count": null,
   "metadata": {},
   "outputs": [],
   "source": [
    "## Read in the cell dimensions\n",
    "cell_dim = pd.read_csv('1_cell_measurements.csv')\n",
    "\n",
    "## Pull out the High Light acclimated cell measurements\n",
    "HL_vols = list()\n",
    "HL_dims = cell_dim[['HL_len','HL_wid']]\n",
    "## Iterate over the length and width measurements to determine the cell volumes\n",
    "for i in HL_dims.index:\n",
    "    ## Get the volume of the core ellipse\n",
    "    ### Semi-major axis: (total length - 2x width)/2 \n",
    "    smaj = (HL_dims.iloc[i]['HL_len']-2*HL_dims.iloc[i]['HL_wid'])/2\n",
    "    ### Semi-minor axis: (width/2)\n",
    "    smin = HL_dims.iloc[i]['HL_wid']/2\n",
    "    ellipse = (4./3.)*np.pi*(smaj*(smin*smin))\n",
    "    ### Get the volume of the cones    \n",
    "    cones = (1./3.)*np.pi*(np.power((HL_dims.iloc[i]['HL_wid']/4),2)+((HL_dims.iloc[i]['HL_wid']/4)*1)+1)*(HL_dims.iloc[i]['HL_wid'])\n",
    "    HL_vols.append(ellipse+(2*cones))\n",
    "\n",
    "    \n",
    "## Pull out the Low Light acclimated cell measurements\n",
    "LL_vols = list()\n",
    "LL_dims = cell_dim[['LL_len','LL_wid']]\n",
    "LL_dims.dropna(inplace=True)\n",
    "## Iterate over the length and width measurements to determine the cell volumes\n",
    "for i in LL_dims.index:\n",
    "    ## Get the volume of the core ellipse\n",
    "    ### Semi-major axis: (total length - 2x width)/2 \n",
    "    smaj = (LL_dims.iloc[i]['LL_len']-2*LL_dims.iloc[i]['LL_wid'])/2\n",
    "    ### Semi-minor axis: (width/2)\n",
    "    smin = LL_dims.iloc[i]['LL_wid']/2\n",
    "    ellipse = (4./3.)*np.pi*(smaj*(smin*smin))\\\n",
    "    ### Get the volume of the cones    \n",
    "    cones = (1./3.)*np.pi*(np.power((LL_dims.iloc[i]['LL_wid']/4),2)+((LL_dims.iloc[i]['LL_wid']/4)*1)+1)*(LL_dims.iloc[i]['LL_wid'])\n",
    "    LL_vols.append(ellipse+(2*cones))\n",
    "    \n",
    "print(\"HL Mean: \", np.floor(np.mean(HL_vols)))\n",
    "print(\"HL Std: \", np.floor(np.std(HL_vols)))\n",
    "\n",
    "print(\"LL Mean: \", np.floor(np.mean(LL_vols)))\n",
    "print(\"LL Std: \", np.floor(np.std(LL_vols)))"
   ]
  },
  {
   "cell_type": "markdown",
   "metadata": {},
   "source": [
    "## Chlorophyll content\n",
    "\n",
    "Based on Ritchie 2008 PHOTOSYNTHETICA 46 (1): 115-126, 2008\n",
    "\n",
    "5 mL of cells were concentrated and resuspended in 2 mL MeOH\n",
    "\n",
    "So [chl] in ug/cell = ug_chl/mL * 2 mL MeOH / (1e6 * total cells)"
   ]
  },
  {
   "cell_type": "code",
   "execution_count": null,
   "metadata": {},
   "outputs": [],
   "source": [
    "## Cell densities (total cells, in millions)\n",
    "# High light acclimated\n",
    "chl_cell={'Pt_chl_F1' : 52.5,# High light acclimated\n",
    "    'Pt_chl_F2' : 44.0, # High light acclimated \n",
    "    'Pt_chl_F3' : 38.7, # High light acclimated\n",
    "    'Pt_chl_F4' : 66.0, # High light acclimated\n",
    "    'Pt_chl_F5' : 22.0, # Low light acclimated\n",
    "    'Pt_chl_F6' : 21.5, # Low light acclimated\n",
    "    'Pt_chl_F7' : 26.0} # Low light acclimated"
   ]
  },
  {
   "cell_type": "code",
   "execution_count": null,
   "metadata": {
    "scrolled": true
   },
   "outputs": [],
   "source": [
    "## Read in and plot the data\n",
    "import matplotlib.pyplot as plt\n",
    "import seaborn as sns\n",
    "sns.set()\n",
    "\n",
    "## Read in the blank subtracted data\n",
    "Pt_chl = pd.read_excel('1_Cell_Physiology.xlsx',sheet_name='Chlorophyll')\n",
    "x = Pt_chl.wavelength.values\n",
    "fig, axes = plt.subplots(4, 4, figsize=(10, 7))\n",
    "blank = Pt_chl['f/2 blank'].values\n",
    "\n",
    "samples = [i for i in Pt_chl.columns if i != 'wavelength']\n",
    "start = 1\n",
    "for s in samples:\n",
    "    # get values for the sample\n",
    "    vals = [float(val) for val in Pt_chl[s].values]\n",
    "   \n",
    "    plt.subplot(4,4,start)\n",
    "    plt.plot(x,vals,'b')\n",
    "    plt.title(s)   \n",
    "    start = start+1\n",
    "    \n",
    "plt.tight_layout()\n",
    "plt.show()"
   ]
  },
  {
   "cell_type": "markdown",
   "metadata": {},
   "source": [
    "## The plots above are total absorbace (A) per cm pathlength.\n",
    "### As the pathlength was 1 cm, the values are total absorbance.\n",
    "### Next, we will use the chlorophyll extinction coefficients to determine concentration"
   ]
  },
  {
   "cell_type": "code",
   "execution_count": null,
   "metadata": {},
   "outputs": [],
   "source": [
    "## Define functions for determining chlorophlly a,c, total\n",
    "def calc_chla(sample_ID,chl_DF):\n",
    "    # Pull the absorbance data for the desired sample\n",
    "    OD_list = [750,665,652,632]\n",
    "    abs_values = dict()\n",
    "    for o in OD_list:\n",
    "        abs_values[o] = float(chl_DF[chl_DF['wavelength']==o][sample_ID].values[0])\n",
    "        \n",
    "    chla = (16.4351*(abs_values[665]-abs_values[750]))-(6.4151*(abs_values[652]-abs_values[750]))-(3.2416*(abs_values[632]-abs_values[750]))\n",
    "    return chla\n",
    "\n",
    "def calc_chlc(sample_ID,chl_DF):\n",
    "    # Pull the absorbance data for the desired sample\n",
    "    OD_list = [750,665,652,632]\n",
    "    abs_values = dict()\n",
    "    for o in OD_list:\n",
    "        abs_values[o] = float(chl_DF[chl_DF['wavelength']==o][sample_ID].values[0])\n",
    "        \n",
    "    chlc = (-1.5492*(abs_values[665]-abs_values[750]))-(12.8087*(abs_values[652]-abs_values[750]))+(34.2247*(abs_values[632]-abs_values[750]))\n",
    "    return chlc\n",
    "\n",
    "def calc_chl(sample_ID,chl_DF):\n",
    "    # Pull the absorbance data for the desired sample\n",
    "    OD_list = [750,665,652,632]\n",
    "    abs_values = dict()\n",
    "    for o in OD_list:\n",
    "        abs_values[o] = float(chl_DF[chl_DF['wavelength']==o][sample_ID].values[0])\n",
    "        \n",
    "    total_chl = (1.0015*(abs_values[665]-abs_values[750]))+(12.9241*(abs_values[652]-abs_values[750]))+(27.9603*(abs_values[632]-abs_values[750]))\n",
    "    return total_chl"
   ]
  },
  {
   "cell_type": "code",
   "execution_count": null,
   "metadata": {},
   "outputs": [],
   "source": [
    "## Calculate the chlorophyll content\n",
    "### Units are grams chlorophyll per m3 of methanol\n",
    "\n",
    "samples = [i for i in Pt_chl.columns if i != 'wavelength']\n",
    "chl_values = pd.DataFrame(index=['Chl_total','Chla','Chlc'])\n",
    "\n",
    "for s in samples:\n",
    "    chl_values[s] = [calc_chl(s,Pt_chl),calc_chla(s,Pt_chl),calc_chlc(s,Pt_chl)]\n",
    "\n",
    "print(chl_values)"
   ]
  },
  {
   "cell_type": "markdown",
   "metadata": {},
   "source": [
    "## These values are in units of g m^-3 MeOH\n",
    "### g/m3 converted to pg/mL : 1e12/1e6 = 1e6\n",
    "### Next, normalize by total cells and multiply by 2 since there is 2 mL of MeOH"
   ]
  },
  {
   "cell_type": "code",
   "execution_count": null,
   "metadata": {},
   "outputs": [],
   "source": [
    "## Take the flask cell data from the above dictionary\n",
    "for fl,cell in chl_cell.items():\n",
    "    df_cols = [col for col in chl_values if fl in col] # Get the right column\n",
    "    for c in df_cols:\n",
    "        temp_data = chl_values[c].values/(cell*1e6)*2*1e6 # Normalize by cell count, multiply by 2mL MeOH, convert g/m3 to pg/cell\n",
    "        chl_values[c]=temp_data # Write to DataFrame\n",
    "        "
   ]
  },
  {
   "cell_type": "code",
   "execution_count": null,
   "metadata": {},
   "outputs": [],
   "source": [
    "## Print the mean and std for HL and LL acclimated cells\n",
    "### Separate the HL and LL flasks\n",
    "HL_fl = ['F1','F2','F3','F4'] ## HL flasks\n",
    "LL_fl = ['F5','F6','F7'] ## LL flasks\n",
    "\n",
    "HL_col = []\n",
    "for f in HL_fl:\n",
    "    HL_col= HL_col+[c for c in chl_values if f in c]\n",
    "\n",
    "## Separate the DataFrame    \n",
    "HL_chl = chl_values[HL_col]\n",
    "\n",
    "print('HL mean chla: ',np.around(HL_chl.loc['Chla'].mean(),3), 'picograms per cell')\n",
    "print('HL std chla: ',np.around(HL_chl.loc['Chla'].std(),3), 'picograms per cell')\n",
    "print('HL mean chlc: ',np.around(HL_chl.loc['Chlc'].mean(),3), 'picograms per cell')\n",
    "print('HL std chlc: ',np.around(HL_chl.loc['Chlc'].std(),3), 'picograms per cell')\n",
    "\n",
    "LL_col = []\n",
    "for f in LL_fl:\n",
    "    LL_col= LL_col+[c for c in chl_values if f in c]\n",
    "\n",
    "## Separate the DataFrame\n",
    "LL_chl = chl_values[LL_col]\n",
    "\n",
    "print('LL mean chla: ',np.around(LL_chl.loc['Chla'].mean(),3), 'picograms per cell')\n",
    "print('LL std chla: ',np.around(LL_chl.loc['Chla'].std(),3), 'picograms per cell')\n",
    "print('LL mean chlc: ',np.around(LL_chl.loc['Chlc'].mean(),3), 'picograms per cell')\n",
    "print('LL std chlc: ',np.around(LL_chl.loc['Chlc'].std(),3), 'picograms per cell')"
   ]
  }
 ],
 "metadata": {
  "kernelspec": {
   "display_name": "Python 3 (ipykernel)",
   "language": "python",
   "name": "python3"
  },
  "language_info": {
   "codemirror_mode": {
    "name": "ipython",
    "version": 3
   },
   "file_extension": ".py",
   "mimetype": "text/x-python",
   "name": "python",
   "nbconvert_exporter": "python",
   "pygments_lexer": "ipython3",
   "version": "3.10.4"
  }
 },
 "nbformat": 4,
 "nbformat_minor": 4
}
