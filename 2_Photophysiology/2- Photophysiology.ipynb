{
 "cells": [
  {
   "cell_type": "markdown",
   "metadata": {},
   "source": [
    "# 2: Photophysiology\n",
    "## This notebook shows the code and calculations used to determine:\n",
    "### - Cell- and pigment-normalized absorption coefficients\n",
    "### - Oxygen evolution\n",
    "### - PAM data\n",
    "\n",
    "(Figure 1 in the manuscript)"
   ]
  },
  {
   "cell_type": "code",
   "execution_count": null,
   "metadata": {},
   "outputs": [],
   "source": [
    "## Required packages\n",
    "import pandas as pd\n",
    "import numpy as np\n",
    "import csv\n",
    "import scipy\n",
    "import math as m\n",
    "from matplotlib import pyplot as plt\n",
    "import seaborn as sns\n",
    "sns.set()"
   ]
  },
  {
   "cell_type": "markdown",
   "metadata": {},
   "source": [
    "### Cellular absorption\n",
    "\n",
    "Cells were filtered onto Whatman GF/A glass microfibre filters (21mm diameter, GE Cat No. 1820-021)\n",
    "\n",
    "Filters were trimmed to fit in a standard 1 cm disposable cuvette\n",
    "\n",
    "Signal filter: https://docs.scipy.org/doc/scipy-0.16.1/reference/generated/scipy.signal.savgol_filter.html"
   ]
  },
  {
   "cell_type": "code",
   "execution_count": null,
   "metadata": {},
   "outputs": [],
   "source": [
    "## Read in the raw data from the spectrophotometer\n",
    "abs_raw = pd.read_csv('2_Raw_absorbance_data.csv')\n",
    "\n",
    "# data is collected every half wavelength, round to nearest integer and drop all the evens\n",
    "nm_list = abs_raw['Wavelength (nm)'].values.tolist()\n",
    "nm_list = [int(round(float(nm))) for nm in abs_raw['Wavelength (nm)'].values.tolist()]\n",
    "\n",
    "abs_raw['Wavelength (nm)']=nm_list\n",
    "\n",
    "## Clean up the results\n",
    "even_num = [i for i in range(len(nm_list)) if i%2==0]\n",
    "to_drop = [i for i in range(len(nm_list)) if i not in even_num]\n",
    "abs_raw = abs_raw.drop(abs_raw.index[to_drop])\n",
    "abs_raw = abs_raw.reset_index(drop=True)"
   ]
  },
  {
   "cell_type": "code",
   "execution_count": null,
   "metadata": {},
   "outputs": [],
   "source": [
    "## Need to set up blank subtraction of the samples\n",
    "### The data is inherently noisy, will null out the scatter noise\n",
    "### with a signal filter\n",
    "from scipy import signal\n",
    "\n",
    "## Get the OD750 value to normalize the samples\n",
    "## Normalization range is from 720-800 nm as no pigment absorption occurs in \n",
    "## this range.\n",
    "\n",
    "blank = abs_raw['f2_blank'].values ## Get the blank sample (f/2 medium)\n",
    "blank_filt = scipy.signal.savgol_filter(blank,31,2) ## null out the noise due to filter scatter\n",
    "\n",
    "## The range is the first 80 data points (800-720 nm)\n",
    "norm_range = range(0,80)\n",
    "to_drop = [i for i in range(len(abs_raw)) if i not in norm_range]\n",
    "norm_DF = abs_raw.copy()\n",
    "norm_DF = norm_DF.drop(norm_DF.index[to_drop])\n",
    "\n",
    "## Now that we have a DataFrame with the wavelengths that will be used to normalize the data,\n",
    "norm_mean = dict()\n",
    "samples = [i for i in norm_DF.keys() if i != 'wavelength']\n",
    "for s in samples:\n",
    "    s_values = [float(val) for val in norm_DF[s].values]\n",
    "    norm_mean[s] = np.around(np.mean(s_values),4)"
   ]
  },
  {
   "cell_type": "code",
   "execution_count": null,
   "metadata": {},
   "outputs": [],
   "source": [
    "## These are the normalization values for each sample\n",
    "norm_mean"
   ]
  },
  {
   "cell_type": "code",
   "execution_count": null,
   "metadata": {},
   "outputs": [],
   "source": [
    "# Create blank subtracted versions of the samples\n",
    "fig, axes = plt.subplots(2, 5, figsize=(20, 10))\n",
    "x = abs_raw['Wavelength (nm)'].values ## For plotting\n",
    "# Get the f/2 reference blank- use the mean OD from 730 to 800\n",
    "blank = abs_raw['f2_blank'].values\n",
    "blank_filt = scipy.signal.savgol_filter(blank,17,2)\n",
    "scatter = norm_mean['f2_blank']\n",
    "\n",
    "#This is the blank to be subtracted from all samples\n",
    "blank_sub = [(b-scatter) for b in blank_filt]\n",
    "plt.subplot(2,5,1)\n",
    "plt.plot(x,blank_sub,'r')\n",
    "plt.title('Blank to subtract')\n",
    "plt.ylim(-0.1,1.2)\n",
    "# Subtract this blank from all the samples\n",
    "\n",
    "abs_norm = abs_raw.copy()\n",
    "\n",
    "samples = [i for i in abs_norm.keys() if i != 'Wavelength (nm)']\n",
    "start = 2\n",
    "for s in samples:\n",
    "    # get values for the sample\n",
    "    s_values = [float(val) for val in abs_norm[s].values]\n",
    "    norm_values = scipy.signal.savgol_filter(s_values,17,2)\n",
    "    \n",
    "    # Subtract the reference blank from each value\n",
    "    OD_norm = [(b-a) for b,a in zip(norm_values,blank_sub)]\n",
    "    \n",
    "    # And now subtract the OD750 from all values\n",
    "    OD750 = norm_mean[s]\n",
    "    \n",
    "    OD750_norm = [(b-OD750) for b in OD_norm]\n",
    "    \n",
    "    # Update the DF with this value\n",
    "    abs_norm[s]=OD750_norm\n",
    "    \n",
    "    plt.subplot(2,5,start)\n",
    "    plt.plot(x,s_values,'r--')\n",
    "    plt.plot(x,OD750_norm,'b')\n",
    "    plt.title(s)\n",
    "    plt.ylim(-0.1,1.2)\n",
    "    start = start+1\n",
    "  "
   ]
  },
  {
   "cell_type": "markdown",
   "metadata": {},
   "source": [
    "### Correction for filter amplification\n",
    "Equation 5 in Methods\n",
    "\n",
    "Finkel Z V. & Irwin AJ (2001) Light absorption by phytoplankton and the filter amplification correction: cell size and species effects. J Exp Mar Biol Ecol 259: 51–61"
   ]
  },
  {
   "cell_type": "code",
   "execution_count": null,
   "metadata": {},
   "outputs": [],
   "source": [
    "## Convert from OD to absorbance and apply correction for filter amplification\n",
    "\n",
    "def filt_corr(OD):\n",
    "    OD_val = 2.303*(0.388*OD+(0.616*np.power(OD,2)))\n",
    "    return OD_val\n",
    "\n",
    "abs_corr = abs_norm[[c for c in abs_norm.columns if c != 'Wavelength (nm)']]\n",
    "abs_corr = abs_corr.apply(filt_corr,axis=0)\n",
    "abs_corr['Wavelength (nm)'] = abs_norm['Wavelength (nm)']\n"
   ]
  },
  {
   "cell_type": "code",
   "execution_count": null,
   "metadata": {},
   "outputs": [],
   "source": [
    "# Cell normalized absorption coefficient\n",
    "## Cell densities (total cells, in millions)\n",
    "abs_cell={'Pt_abs_F1' : 56.0,# High light acclimated\n",
    "    'Pt_abs_F2' : 57.0, # High light acclimated \n",
    "    'Pt_abs_F3' : 57.2, # High light acclimated\n",
    "    'Pt_abs_F4' : 55.4, # High light acclimated\n",
    "    'Pt_abs_F5' : 49.5, # Low light acclimated\n",
    "    'Pt_abs_F6' : 49.0, # Low light acclimated\n",
    "    'Pt_abs_F7' : 50.0} # Low light acclimated\n",
    "\n",
    "cell_norm = abs_corr.copy()\n",
    "\n",
    "for col in cell_norm.columns:\n",
    "    if col in abs_cell.keys():\n",
    "        cell_count = abs_cell[col]*1e6\n",
    "        cell_norm[col] = 2.1*cell_norm[col]/cell_count ## 2.1 is the surface area of the cells in cm2\n",
    "        \n",
    "cell_norm.plot(x='Wavelength (nm)', figsize = [8,5], ylim = [0,1.2e-7])"
   ]
  },
  {
   "cell_type": "code",
   "execution_count": null,
   "metadata": {},
   "outputs": [],
   "source": [
    "# Pigment normalized absorption coefficient\n",
    "## Cell densities (total cells, in millions)\n",
    "chl_cell={'Pt_abs_F1' : 1.45e-7,# High light acclimated\n",
    "    'Pt_abs_F2' : 1.32e-7, # High light acclimated \n",
    "    'Pt_abs_F3' : 1.46e-7, # High light acclimated\n",
    "    'Pt_abs_F4' : 1.65e-7, # High light acclimated\n",
    "    'Pt_abs_F5' : 4.02e-7, # Low light acclimated\n",
    "    'Pt_abs_F6' : 4.11e-7, # Low light acclimated\n",
    "    'Pt_abs_F7' : 4.14e-7} # Low light acclimated\n",
    "\n",
    "chl_norm = cell_norm.copy()\n",
    "\n",
    "for col in chl_norm.columns:\n",
    "    if col in chl_cell.keys():\n",
    "        chl = chl_cell[col]\n",
    "        chl_norm[col] = chl_norm[col]/chl ## chl is ug/cell\n",
    "\n",
    "chl_norm.plot(x='Wavelength (nm)', figsize = [8,5], ylim = [0,0.3])"
   ]
  },
  {
   "cell_type": "markdown",
   "metadata": {},
   "source": [
    "## Simultaneous oxygen evolution and PAM fluorimetry"
   ]
  },
  {
   "cell_type": "code",
   "execution_count": null,
   "metadata": {},
   "outputs": [],
   "source": [
    "### The LED output was measured to connect set points with actual photon fluxes.\n",
    "PAR_val = pd.read_csv('2_Light_to_intensity.csv')"
   ]
  },
  {
   "cell_type": "code",
   "execution_count": null,
   "metadata": {},
   "outputs": [],
   "source": [
    "## For oxygen evolution, one HL acclimated flask was selected for demonstration. The files are \n",
    "### the raw outputs from the FireSting O2 sensor\n",
    "\n",
    "## Read in the raw O2 data and extract the relevant fields into a DataFrame\n",
    "HL_files = ['2_Pt_Flask1_LC.txt', '2_Pt_Flask1_resp.txt']\n",
    "\n",
    "HL_O2 = pd.DataFrame()\n",
    "\n",
    "for i in range(len(HL_files)):\n",
    "    item = HL_files[i]\n",
    "    sample_id = item.split('.')[0]\n",
    "    O2_data = pd.read_csv(item, sep='\\t', skiprows=13, usecols=[2,4])\n",
    "    temp_DF = O2_data[['Time (s)','Ch1']]\n",
    "    temp_DF.columns = ['Time (s) '+sample_id,'O2 '+sample_id]\n",
    "    if i == 0:\n",
    "        HL_O2 = temp_DF.copy()\n",
    "    else:\n",
    "        HL_O2['Time (s) '+sample_id]= temp_DF[['Time (s) '+sample_id]]\n",
    "        HL_O2['O2 '+sample_id]= temp_DF[['O2 '+sample_id]]    "
   ]
  },
  {
   "cell_type": "code",
   "execution_count": null,
   "metadata": {},
   "outputs": [],
   "source": [
    "## Read in the PAM data as it has the light intensity values and time points\n",
    "\n",
    "Pt_PAM_all = pd.read_excel('2_PAM_all.xlsx')\n",
    "LC_start = Pt_PAM_all.index[Pt_PAM_all['Action']=='LC-Start'].tolist()\n",
    "LC_end = Pt_PAM_all.index[Pt_PAM_all['Action']=='LC-Stop'].tolist()\n",
    "\n",
    "LC_order = ['Pt_Flask4_LC',\n",
    "           'Pt_Flask1_LC',\n",
    "           'Pt_Flask2_LC',\n",
    "           'Pt_Flask3_LC',\n",
    "           'Pt_Flask5_LC_2',\n",
    "           'Pt_Flask6_LC',\n",
    "           'Pt_Flask7_LC',\n",
    "           'Pt_Flask5_LC',\n",
    "           'Pt_Flask6_LC_2',\n",
    "           'Pt_Flask4_LC_2']\n",
    "\n",
    "data_org = dict(zip(LC_order,zip(LC_start,LC_end)))"
   ]
  },
  {
   "cell_type": "code",
   "execution_count": null,
   "metadata": {},
   "outputs": [],
   "source": [
    "## The PAM data is aggregated, this function allows for selection of a single sample\n",
    "\n",
    "def get_PAM_data(sample_ID,PAM_DF, sample_to_LC):\n",
    "    # Use the sample ID to get the range of rows for the desired data\n",
    "    table_rows = range(sample_to_LC[sample_ID][0],sample_to_LC[sample_ID][1]+1)\n",
    "    all_rows = PAM_DF.index.tolist()\n",
    "    to_drop = [rows for rows in all_rows if rows not in table_rows]\n",
    "    pared_DF = PAM_DF.drop(PAM_DF.index[to_drop])\n",
    "    return pared_DF"
   ]
  },
  {
   "cell_type": "code",
   "execution_count": null,
   "metadata": {},
   "outputs": [],
   "source": [
    "## This is how the raw data looks\n",
    "o2_DF = HL_O2.copy()\n",
    "sample = '2_Pt_Flask1_LC'\n",
    "time = o2_DF['Time (s) '+sample].values.tolist()\n",
    "o2_conc = o2_DF['O2 '+sample].values.tolist()\n",
    "\n",
    "## There was a 5 second delay between intensity change and a resulting change in the O2 curve\n",
    "off_set = 5 # seconds, valid for all the flasks\n",
    "plt.plot(time,o2_conc)"
   ]
  },
  {
   "cell_type": "code",
   "execution_count": null,
   "metadata": {},
   "outputs": [],
   "source": [
    "## Take a linear regression between intensity changes\n",
    "### Output is O2 in umol/(L*s)\n",
    "import scipy\n",
    "o2_samples = ['O2 2_Pt_Flask1_LC'] \n",
    "o2_out = pd.DataFrame(columns=o2_samples)\n",
    "for s in o2_samples:\n",
    "    o2_values = o2_DF[s].values.tolist()\n",
    "    temp_list = list()\n",
    "    if 'LC' in s:\n",
    "        # 18 time points yeilding 17 datapoints\n",
    "        for t in range(0,17):\n",
    "            t_range = range((t*60+10+off_set),(((t+1)*60-10+off_set)))\n",
    "            o2_temp = o2_values[min(t_range):(max(t_range)+1)]\n",
    "            temp_list.append(scipy.stats.linregress(t_range,o2_temp).slope)\n",
    "\n",
    "    try:\n",
    "        o2_out[s]=temp_list\n",
    "\n",
    "    except ValueError:\n",
    "        delta = len(o2_out.index)-len(temp_list)\n",
    "        for q in range(delta):\n",
    "            temp_list.append('')\n",
    "        o2_out[s]=temp_list\n",
    "\n",
    "## Units are in umol/(L*s)\n",
    "### Convert to umol/(cell*s)\n",
    "## Total cells for O2 and PAM in millions\n",
    "Pt_O2_F1 = 19.7\n",
    "o2_out = o2_out/(Pt_O2_F1*1e6)/1000. \n"
   ]
  },
  {
   "cell_type": "code",
   "execution_count": null,
   "metadata": {},
   "outputs": [],
   "source": [
    "## Respiration\n",
    "resp_DF = HL_O2.copy()\n",
    "sample = '2_Pt_Flask1_resp'\n",
    "time = o2_DF['Time (s) '+sample].values.tolist()\n",
    "o2_conc = o2_DF['O2 '+sample].values.tolist()\n",
    "\n",
    "## There was a 5 second delay between intensity change and a resulting change in the O2 curve\n",
    "off_set = 5 # seconds, valid for all the flasks\n",
    "plt.plot(time,o2_conc)"
   ]
  },
  {
   "cell_type": "code",
   "execution_count": null,
   "metadata": {},
   "outputs": [],
   "source": [
    "## Take a linear regression of 300-600 seconds\n",
    "t_range = range(300,600,1)\n",
    "o2_temp = o2_conc[min(t_range):(max(t_range)+1)]\n",
    "resp = scipy.stats.linregress(t_range,o2_temp).slope/(Pt_O2_F1*1e6)/1000.\n",
    "o2_all = [resp]+o2_out['O2 2_Pt_Flask1_LC'].values.tolist()"
   ]
  },
  {
   "cell_type": "code",
   "execution_count": null,
   "metadata": {},
   "outputs": [],
   "source": [
    "## PAM Data\n",
    "HL_PAM_raw = get_PAM_data('Pt_Flask1_LC',Pt_PAM_all,data_org)\n",
    "HL_PAR = [v for v in HL_PAM_raw['PAR'].values if not np.isnan(v)]\n",
    "\n",
    "## Get 1-qL, Y(II), Y(NO), Y(NPQ)\n",
    "HL_PAM = HL_PAM_raw[['Y(II)','Y(NO)','Y(NPQ)','qL']]\n",
    "HL_PAM = HL_PAM.dropna(how='all')\n",
    "HL_PAM = HL_PAM.reset_index(drop=True)\n"
   ]
  },
  {
   "cell_type": "code",
   "execution_count": null,
   "metadata": {},
   "outputs": [],
   "source": [
    "## Convert PAR set point to actually measured photon flux\n",
    "measured = [0]\n",
    "for par in HL_PAR[1:]:\n",
    "    measured.append(PAR_val[PAR_val['PAM']==par]['Measured'].values[0])\n",
    "    "
   ]
  },
  {
   "cell_type": "code",
   "execution_count": null,
   "metadata": {},
   "outputs": [],
   "source": [
    "# Create a HL Data Summary\n",
    "HL_Data = HL_PAM[['Y(II)','Y(NO)','Y(NPQ)']]\n",
    "HL_Data['1-qL'] = [(1-q) for q in HL_PAM['qL'].values]\n",
    "HL_Data['O2']=o2_all\n",
    "HL_Data['PAR']=measured"
   ]
  },
  {
   "cell_type": "code",
   "execution_count": null,
   "metadata": {},
   "outputs": [],
   "source": [
    "x = HL_Data['PAR'].values.tolist()\n",
    "y1 = HL_Data['Y(II)'].values.tolist()\n",
    "y2 = HL_Data['Y(NO)'].values.tolist()\n",
    "y3 = HL_Data['Y(NPQ)'].values.tolist()\n",
    "\n",
    "f = plt.figure(figsize=(5,12))\n",
    "ax = f.add_subplot(311)\n",
    "ax2 = f.add_subplot(312)\n",
    "ax3 = f.add_subplot(313)\n",
    "ax.plot(x,y1,'bD', label = 'Y(II)')\n",
    "ax.plot(x,y2,'bo', label = 'Y(NO)')\n",
    "ax.plot(x,y3,'bs', label = 'Y(NPQ)')\n",
    "ax.set_ylim(-0.1,1)\n",
    "ax.legend()\n",
    "\n",
    "ax2.plot(x,HL_Data['1-qL'].values.tolist(),'bo', label = '1-qL')\n",
    "ax2.set_ylim(-0.1,1)\n",
    "ax2.legend(loc =2)\n",
    "\n",
    "\n",
    "ax3.plot(x,np.array(HL_Data['O2'].values.tolist())*1e9,'bo', label = 'O2 evo') # O2 converted to fmol/(cell*s)\n",
    "ax3.set_ylim(-0.008,0.028)\n",
    "ax3.legend(loc =2)"
   ]
  },
  {
   "cell_type": "code",
   "execution_count": null,
   "metadata": {},
   "outputs": [],
   "source": [
    "## Convert the irradiance from PAR to quantum flux and re-plot\n",
    "## Load in the cell normalized absorbance spectrum\n",
    "a_star = cell_norm[['Pt_abs_F1','Wavelength (nm)']]\n",
    "\n",
    "## Load in the red LED specgtrum\n",
    "irrad = pd.read_csv('2_PAM_LED.csv')\n",
    "\n",
    "## Pare it down to only the area with photon flux to speed up the computation\n",
    "a_star = a_star[a_star['Wavelength (nm)'] >= 592]\n",
    "a_star = a_star[a_star['Wavelength (nm)'] <= 661]"
   ]
  },
  {
   "cell_type": "code",
   "execution_count": null,
   "metadata": {},
   "outputs": [],
   "source": [
    "## Cell density of the light curve\n",
    "cell = 1.97E7 #cell/cm3 \n",
    "PAR = HL_Data['PAR'].values.tolist()\n",
    "### a* is in cm2/cell\n",
    "\n",
    "QF = list()\n",
    "\n",
    "# loop through wavelengths\n",
    "r = 0.5\n",
    "y_slices = 100\n",
    "for p in PAR:\n",
    "    Q_phar = 0.\n",
    "    for w in a_star['Wavelength (nm)'].values:\n",
    "        # Round cuvette option\n",
    "        q_temp = 0.\n",
    "        for y in range(y_slices):\n",
    "            slice_temp = 0.\n",
    "            y_val = y*(r/y_slices)\n",
    "            l = 2*(m.pow((m.pow(r,2))-m.pow(y_val,2),0.5)) #full pathlength since it is based on radius\n",
    "            ab_coef = (a_star[a_star['Wavelength (nm)']==w].Pt_abs_F1.values[0]) #abs in cm2/cell\n",
    "            Io = (p*irrad[irrad.wavelength==w].rel_height.values[0])*(1.1*r/y_slices/1e4) #SA of the slice in cm2 then m2\n",
    "            slice_temp =2*(Io - Io*(np.exp(-ab_coef*cell*l)))\n",
    "            q_temp = q_temp+slice_temp\n",
    "        Q_phar = Q_phar+q_temp\n",
    "    QF.append((Q_phar/(cell)*1e9)) #fmol/cell*s"
   ]
  },
  {
   "cell_type": "code",
   "execution_count": null,
   "metadata": {},
   "outputs": [],
   "source": [
    "x = QF\n",
    "y1 = HL_Data['Y(II)'].values.tolist()\n",
    "y2 = HL_Data['Y(NO)'].values.tolist()\n",
    "y3 = HL_Data['Y(NPQ)'].values.tolist()\n",
    "\n",
    "f = plt.figure(figsize=(5,12))\n",
    "ax = f.add_subplot(311)\n",
    "ax2 = f.add_subplot(312)\n",
    "ax3 = f.add_subplot(313)\n",
    "ax.plot(x,y1,'bD', label = 'Y(II)')\n",
    "ax.plot(x,y2,'bo', label = 'Y(NO)')\n",
    "ax.plot(x,y3,'bs', label = 'Y(NPQ)')\n",
    "ax.set_ylim(-0.1,1)\n",
    "ax.legend()\n",
    "\n",
    "ax2.plot(x,HL_Data['1-qL'].values.tolist(),'bo', label = '1-qL')\n",
    "ax2.set_ylim(-0.1,1)\n",
    "ax2.legend(loc =2)\n",
    "\n",
    "\n",
    "ax3.plot(x,np.array(HL_Data['O2'].values.tolist())*1e9,'bo', label = 'O2 evo') # O2 converted to fmol/(cell*s)\n",
    "ax3.set_ylim(-0.008,0.028)\n",
    "ax3.legend(loc =2)"
   ]
  },
  {
   "cell_type": "code",
   "execution_count": null,
   "metadata": {},
   "outputs": [],
   "source": []
  }
 ],
 "metadata": {
  "kernelspec": {
   "display_name": "Python 3 (ipykernel)",
   "language": "python",
   "name": "python3"
  },
  "language_info": {
   "codemirror_mode": {
    "name": "ipython",
    "version": 3
   },
   "file_extension": ".py",
   "mimetype": "text/x-python",
   "name": "python",
   "nbconvert_exporter": "python",
   "pygments_lexer": "ipython3",
   "version": "3.10.4"
  }
 },
 "nbformat": 4,
 "nbformat_minor": 4
}
