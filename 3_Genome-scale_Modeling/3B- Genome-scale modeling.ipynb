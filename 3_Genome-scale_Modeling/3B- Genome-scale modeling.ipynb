{
 "cells": [
  {
   "cell_type": "markdown",
   "metadata": {},
   "source": [
    "# 3B: Genome-scale Modeling\n",
    "## This notebook shows the code and calculations used to determine:\n",
    "### - Growth rates\n",
    "### - Hierarchy of constraints\n",
    "\n",
    "(Figures 2 and Table 2 in the manuscript)"
   ]
  },
  {
   "cell_type": "code",
   "execution_count": null,
   "metadata": {},
   "outputs": [],
   "source": [
    "import pandas as pd\n",
    "import numpy as np\n",
    "import csv\n",
    "import cobra\n",
    "import math as m\n",
    "from cobra.core.metabolite import elements_and_molecular_weights\n",
    "elements_and_molecular_weights['R']=0.0\n",
    "elements_and_molecular_weights['Z']=0.0\n",
    "from matplotlib import pyplot as plt\n",
    "import seaborn as sns\n",
    "sns.set()\n",
    "import fcns.modeling_functions as fcns"
   ]
  },
  {
   "cell_type": "markdown",
   "metadata": {},
   "source": [
    "## Simulation setup\n",
    "### For simplicity, the majority of the code is included as functions called in this notebook. Please see the included modeling_functions.py file for the detailed code"
   ]
  },
  {
   "cell_type": "code",
   "execution_count": null,
   "metadata": {
    "scrolled": true
   },
   "outputs": [],
   "source": [
    "## Growth rate simulations (this can take some time)\n",
    "LL_model = cobra.io.load_json_model('LL_base_iLB1035.json')\n",
    "LL_Fig2 = fcns.figure_2LL(LL_model)\n",
    "LL_Fig2['Light']='LL'\n",
    "HL_model = cobra.io.load_json_model('HL_base_iLB1035.json')\n",
    "HL_Fig2 = fcns.figure_2HL(HL_model)\n",
    "HL_Fig2['Light']='HL'\n",
    "HL_Fig2_bicarb = fcns.figure_2HL_HCO3(HL_model)\n",
    "HL_Fig2_bicarb['Light']='HL+bicarb'"
   ]
  },
  {
   "cell_type": "markdown",
   "metadata": {},
   "source": [
    "### Categorical plot of Growth Rate for LL, HL and HL + bicarbonate spike correction \n",
    "### (Figure 2)"
   ]
  },
  {
   "cell_type": "code",
   "execution_count": null,
   "metadata": {
    "scrolled": false
   },
   "outputs": [],
   "source": [
    "all_data = pd.concat([LL_Fig2,HL_Fig2,HL_Fig2_bicarb])\n",
    "sns.catplot(x = 'Light', y = 'GR', kind = \"swarm\", data = all_data)"
   ]
  },
  {
   "cell_type": "markdown",
   "metadata": {},
   "source": [
    "## Growth rates with different constraints (Table 2)\n"
   ]
  },
  {
   "cell_type": "code",
   "execution_count": null,
   "metadata": {},
   "outputs": [],
   "source": [
    "HL_model = cobra.io.load_json_model('HL_base_iLB1035.json')\n",
    "HL_hv = fcns.simulate(HL_model,light='HL',photon_const=True,\n",
    "                       Po_const=False,YII_const=False,D1_const=False,DM20=False)\n",
    "HL_Po = fcns.simulate(HL_model,light='HL',photon_const=False,\n",
    "                       Po_const=True,YII_const=False,D1_const=False,DM20=False)\n",
    "HL_hvPoD1 = fcns.simulate(HL_model,light='HL',photon_const=True,\n",
    "                       Po_const=True,YII_const=False,D1_const=True,DM20=False)\n",
    "HL_hvYII = fcns.simulate(HL_model,light='HL',photon_const=True,\n",
    "                       Po_const=False,YII_const=True,D1_const=False,DM20=False)\n",
    "HL_hvPoD1YII = fcns.simulate(HL_model,light='HL',photon_const=True,\n",
    "                       Po_const=True,YII_const=True,D1_const=True,DM20=False)\n",
    "HL_hvPoDM20 = fcns.simulate(HL_model,light='HL',photon_const=True,\n",
    "                       Po_const=True,YII_const=False,D1_const=False,DM20=True)"
   ]
  },
  {
   "cell_type": "code",
   "execution_count": null,
   "metadata": {},
   "outputs": [],
   "source": [
    "LL_model = cobra.io.load_json_model('LL_base_iLB1035.json')\n",
    "LL_hv = fcns.simulate(HL_model,light='LL',photon_const=True,\n",
    "                       Po_const=False,YII_const=False,D1_const=False,DM20=False)\n",
    "LL_Po = fcns.simulate(LL_model,light='LL',photon_const=False,\n",
    "                       Po_const=True,YII_const=False,D1_const=False,DM20=False)\n",
    "LL_hvPoD1 = fcns.simulate(LL_model,light='LL',photon_const=True,\n",
    "                       Po_const=True,YII_const=False,D1_const=True,DM20=False)\n",
    "LL_hvYII = fcns.simulate(LL_model,light='LL',photon_const=True,\n",
    "                       Po_const=False,YII_const=True,D1_const=False,DM20=False)\n",
    "LL_hvPoD1YII = fcns.simulate(LL_model,light='LL',photon_const=True,\n",
    "                       Po_const=True,YII_const=True,D1_const=True,DM20=False)\n",
    "LL_hvPoDM20 = fcns.simulate(LL_model,light='LL',photon_const=True,\n",
    "                       Po_const=True,YII_const=False,D1_const=False,DM20=True)"
   ]
  },
  {
   "cell_type": "code",
   "execution_count": null,
   "metadata": {},
   "outputs": [],
   "source": []
  }
 ],
 "metadata": {
  "kernelspec": {
   "display_name": "Python 3 (ipykernel)",
   "language": "python",
   "name": "python3"
  },
  "language_info": {
   "codemirror_mode": {
    "name": "ipython",
    "version": 3
   },
   "file_extension": ".py",
   "mimetype": "text/x-python",
   "name": "python",
   "nbconvert_exporter": "python",
   "pygments_lexer": "ipython3",
   "version": "3.10.4"
  }
 },
 "nbformat": 4,
 "nbformat_minor": 4
}
